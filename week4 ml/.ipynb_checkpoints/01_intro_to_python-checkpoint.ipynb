{
 "cells": [
  {
   "cell_type": "markdown",
   "metadata": {},
   "source": [
    "From Javascript to Python\n",
    "=========================\n",
    "\n"
   ]
  },
  {
   "cell_type": "markdown",
   "metadata": {},
   "source": [
    "This will cover some of Python, for another good introduction to the language refer to [https://www.codecademy.com/learn](https://www.codecademy.com/learn).\n",
    "\n",
    "Similarly to Javascript Python in an interpreted language. It has a less &ldquo;verbose&rdquo; syntax than JS hovwever,\n",
    "and some particular advantages.\n",
    "\n",
    "Let&rsquo;s look at some fundamental differences:\n",
    "\n"
   ]
  },
  {
   "cell_type": "markdown",
   "metadata": {},
   "source": [
    "## Variables\n",
    "\n"
   ]
  },
  {
   "cell_type": "markdown",
   "metadata": {},
   "source": [
    "In JavaScript we declare variables with keywords such as `let`, `var`, `const`. Python does not have that,\n",
    "we just create a variable by assigning it a value.\n",
    "E.g Javascript&rsquo;s\n",
    "\n",
    "    var a = 10;\n",
    "    var b = 100;\n",
    "\n",
    "would be\n",
    "\n"
   ]
  },
  {
   "cell_type": "code",
   "execution_count": 1,
   "metadata": {},
   "outputs": [],
   "source": [
    "a = 10\n",
    "b = 10"
   ]
  },
  {
   "cell_type": "markdown",
   "metadata": {},
   "source": [
    "Note that we do not need the semicolons (actually we don&rsquo;t need those in JS either, it is a convention).\n",
    "\n"
   ]
  },
  {
   "cell_type": "markdown",
   "metadata": {},
   "source": [
    "## Comments\n",
    "\n"
   ]
  },
  {
   "cell_type": "markdown",
   "metadata": {},
   "source": [
    "We do want to write comments in our code right? This will keep you and who is evaluating your code sane.\n",
    "In Javascript we have two syntaxes to write comments:\n",
    "\n",
    "    // This syntax for a single line comment\n",
    "\n",
    "and\n",
    "\n",
    "    /* This syntax for\n",
    "    (potentially) multi-line comments */\n",
    "\n",
    "In python we use the `#` symbol to demarkate a comment\n",
    "\n"
   ]
  },
  {
   "cell_type": "code",
   "execution_count": 2,
   "metadata": {},
   "outputs": [],
   "source": [
    "# This is a common Python comment\n",
    "a = 20 # It can be put on the same line"
   ]
  },
  {
   "cell_type": "markdown",
   "metadata": {},
   "source": [
    "Another way you might come across for multiline comments is the following:\n",
    "\n"
   ]
  },
  {
   "cell_type": "code",
   "execution_count": 3,
   "metadata": {},
   "outputs": [
    {
     "data": {
      "text/plain": [
       "' This is a multiline comment\\n    with longer text\\n    ...and more text'"
      ]
     },
     "execution_count": 3,
     "metadata": {},
     "output_type": "execute_result"
    }
   ],
   "source": [
    "''' This is a multiline comment\n",
    "    with longer text\n",
    "    ...and more text'''"
   ]
  },
  {
   "cell_type": "markdown",
   "metadata": {},
   "source": [
    "The latter is actually a &ldquo;multiline string&rdquo;, which is delimited by three single quotes `'''`.\n",
    "For example\n",
    "\n"
   ]
  },
  {
   "cell_type": "code",
   "execution_count": 4,
   "metadata": {},
   "outputs": [],
   "source": [
    "multiline_text = '''This string will contain newlines\n",
    "when I enter a newline in the definition'''"
   ]
  },
  {
   "cell_type": "markdown",
   "metadata": {},
   "source": [
    "## Strings\n",
    "\n"
   ]
  },
  {
   "cell_type": "markdown",
   "metadata": {},
   "source": [
    "We have seen an example of a multiline string above, which can be used also as a comment (usually an important one, e.g. the documentation of a function). Otherwise we can define strings similarly to Javascript with either single quotes `'Hello'` and double quotes `\"Hello\"` . We can use either as long as we are consistent (e.g. `` \"Hello` `` will not work).\n",
    "\n",
    "The `+` operator concatenates two strings, e.g.\n",
    "\n"
   ]
  },
  {
   "cell_type": "code",
   "execution_count": 5,
   "metadata": {},
   "outputs": [
    {
     "data": {
      "text/plain": [
       "'Hello ,world!'"
      ]
     },
     "execution_count": 5,
     "metadata": {},
     "output_type": "execute_result"
    }
   ],
   "source": [
    "\"Hello\" + \" ,world!\""
   ]
  },
  {
   "cell_type": "markdown",
   "metadata": {},
   "source": [
    "and we can convert a number or other object to a string using the `str` keyword. E.g.\n",
    "\n"
   ]
  },
  {
   "cell_type": "code",
   "execution_count": 6,
   "metadata": {},
   "outputs": [
    {
     "data": {
      "text/plain": [
       "'Hello class of 50'"
      ]
     },
     "execution_count": 6,
     "metadata": {},
     "output_type": "execute_result"
    }
   ],
   "source": [
    "\"Hello class of \" + str(50)"
   ]
  },
  {
   "cell_type": "markdown",
   "metadata": {},
   "source": [
    "There are other more sophisticated ways to create strings. E.g. using the [&ldquo;format&rdquo;](https://www.w3schools.com/python/ref_string_format.asp) approach or using a [formatting syntax similar to C/C++](https://www.learnpython.org/en/String_Formatting).\n",
    "\n"
   ]
  },
  {
   "cell_type": "markdown",
   "metadata": {},
   "source": [
    "## Identation and scope\n",
    "\n"
   ]
  },
  {
   "cell_type": "markdown",
   "metadata": {},
   "source": [
    "Now to the biggest difference. In Javascript we enclose &ldquo;content&rdquo;, such as the\n",
    "body of a function, or the operations following an `if` statement, with curly\n",
    "braces (`{` and `}`). The curly braces define what is known as &ldquo;scope&rdquo;.\n",
    "\n",
    "    function doSomething() {\n",
    "        if (a == 10){\n",
    "            print(\"A is 10\");\n",
    "        }else if (a==5){\n",
    "            print(\"A is 5\");\n",
    "        }else{\n",
    "            print(\"A is something else\")\n",
    "        }\n",
    "    }\n",
    "\n",
    "Let&rsquo;s look at the same function in Python:\n",
    "\n"
   ]
  },
  {
   "cell_type": "code",
   "execution_count": 7,
   "metadata": {},
   "outputs": [],
   "source": [
    "def doSomething():\n",
    "    if a==10:\n",
    "        print(\"A is 10\")\n",
    "    elif a==5:\n",
    "        print(\"A is 5\")\n",
    "    else:\n",
    "        print(\"A is something else\")"
   ]
  },
  {
   "cell_type": "markdown",
   "metadata": {},
   "source": [
    "So we have the same `()` syntax for the defining functions but instead of\n",
    "`function` we use `def` and most importantly we define scope using a colon `:`\n",
    "followed by a new line and an **indentation**. In practice, when you write **clean**\n",
    "javascript you follow a similar procedure. So if you remove the opening curly\n",
    "braces in the example above with a colon, replace `function` with `def` and\n",
    "remove the closing `}` we basically are done with translating the code. Note\n",
    "that we can write `if a==10` without the parentheses. Indeed for `if` statements\n",
    "or other basic statements (e.g. `for`, `while`) the parentheses are optional in\n",
    "Python. Not a problem if you use them though.\n",
    "Note also that istead of `else if`, Python uses the `elif` keyword.\n",
    "\n"
   ]
  },
  {
   "cell_type": "markdown",
   "metadata": {},
   "source": [
    "## Lists, iterables, dictionaries and sets\n",
    "\n"
   ]
  },
  {
   "cell_type": "markdown",
   "metadata": {},
   "source": [
    "Python offers quite powerful default containers that have similarities to Javascript.\n",
    "Let&rsquo;s start with [lists](https://www.w3schools.com/python/python_lists.asp), which are very similar to Javascript&rsquo;s `Array` but have a more concise syntax.\n",
    "\n"
   ]
  },
  {
   "cell_type": "markdown",
   "metadata": {},
   "source": [
    "#### Lists\n",
    "\n"
   ]
  },
  {
   "cell_type": "markdown",
   "metadata": {},
   "source": [
    "A `list`, similarly to an `Array` in Javascript, can be simply created using square brackets:\n",
    "\n"
   ]
  },
  {
   "cell_type": "code",
   "execution_count": 8,
   "metadata": {},
   "outputs": [],
   "source": [
    "myList = [0, 1, 4, 6, 10]"
   ]
  },
  {
   "cell_type": "markdown",
   "metadata": {},
   "source": [
    "we can index the list using square brackets, e.g.\n",
    "\n"
   ]
  },
  {
   "cell_type": "code",
   "execution_count": 9,
   "metadata": {},
   "outputs": [
    {
     "data": {
      "text/plain": [
       "4"
      ]
     },
     "execution_count": 9,
     "metadata": {},
     "output_type": "execute_result"
    }
   ],
   "source": [
    "myList[2]"
   ]
  },
  {
   "cell_type": "markdown",
   "metadata": {},
   "source": [
    "will give us the third element in the list (starting from `0`, like JS).\n",
    "We can also set an element (as long as the list has enough elements) with the same syntax\n",
    "\n"
   ]
  },
  {
   "cell_type": "code",
   "execution_count": 10,
   "metadata": {},
   "outputs": [],
   "source": [
    "myList[2] = 10000"
   ]
  },
  {
   "cell_type": "markdown",
   "metadata": {},
   "source": [
    "We can add or &ldquo;pop&rdquo; elements from a list similarly to Javascript, but using the\n",
    "`append` and `pop` methods (these are equivalent to `push` and `pop` in\n",
    "javascript). E.g let&rsquo;s create an empty list and add two strings to it:\n",
    "\n"
   ]
  },
  {
   "cell_type": "code",
   "execution_count": 11,
   "metadata": {},
   "outputs": [],
   "source": [
    "myList = []\n",
    "myList.append(\"Hello\")\n",
    "myList.append(\", \")\n",
    "myList.append(\"World\")"
   ]
  },
  {
   "cell_type": "markdown",
   "metadata": {},
   "source": [
    "By default the `pop` keyword will remove the last element of the list and return it, for example\n",
    "\n"
   ]
  },
  {
   "cell_type": "code",
   "execution_count": 12,
   "metadata": {},
   "outputs": [
    {
     "name": "stdout",
     "output_type": "stream",
     "text": [
      "World\n"
     ]
    }
   ],
   "source": [
    "print(myList.pop())"
   ]
  },
  {
   "cell_type": "markdown",
   "metadata": {},
   "source": [
    "We can also give pop an index, so\n",
    "\n"
   ]
  },
  {
   "cell_type": "code",
   "execution_count": 13,
   "metadata": {},
   "outputs": [
    {
     "data": {
      "text/plain": [
       "'Hello'"
      ]
     },
     "execution_count": 13,
     "metadata": {},
     "output_type": "execute_result"
    }
   ],
   "source": [
    "myList.pop(0)"
   ]
  },
  {
   "cell_type": "markdown",
   "metadata": {},
   "source": [
    "will remove the *first* element from the list and return it.\n",
    "\n",
    "While in Javascript we used the `length` property to get the size of an array, in Python we get the number of elements in a list (or in other types of objects as well, such as strings) with the `len` function. E.g.\n",
    "\n"
   ]
  },
  {
   "cell_type": "code",
   "execution_count": 14,
   "metadata": {},
   "outputs": [
    {
     "name": "stdout",
     "output_type": "stream",
     "text": [
      "1\n",
      "5\n"
     ]
    }
   ],
   "source": [
    "num_elements = len(myList)\n",
    "print(num_elements)\n",
    "name = \"hello\"\n",
    "print(len(name)) # This give us the length of the string"
   ]
  },
  {
   "cell_type": "markdown",
   "metadata": {},
   "source": [
    "#### Indexing and slicing lists\n",
    "\n"
   ]
  },
  {
   "cell_type": "markdown",
   "metadata": {},
   "source": [
    "One nice feature of Python is that we can index a list backwards! For instance\n",
    "`myList[-1]` will give us the last element of the list, `myList[-2]` the second to last, and so forth&#x2026;\n",
    "\n",
    "In addition, and more on this later, we can easily slice up a list. We will not cover every technique here but for example we can get the first three elements of a list:\n",
    "\n"
   ]
  },
  {
   "cell_type": "code",
   "execution_count": 15,
   "metadata": {},
   "outputs": [
    {
     "data": {
      "text/plain": [
       "[0, 1, 3]"
      ]
     },
     "execution_count": 15,
     "metadata": {},
     "output_type": "execute_result"
    }
   ],
   "source": [
    "elements = [0, 1, 3, 5, 7]\n",
    "elements[:3]"
   ]
  },
  {
   "cell_type": "markdown",
   "metadata": {},
   "source": [
    "or for example skip the first two elements with:\n",
    "\n"
   ]
  },
  {
   "cell_type": "code",
   "execution_count": 16,
   "metadata": {},
   "outputs": [
    {
     "data": {
      "text/plain": [
       "[3, 5, 7]"
      ]
     },
     "execution_count": 16,
     "metadata": {},
     "output_type": "execute_result"
    }
   ],
   "source": [
    "elements[2:]"
   ]
  },
  {
   "cell_type": "markdown",
   "metadata": {},
   "source": [
    "or skip the fist and last element with:\n",
    "\n"
   ]
  },
  {
   "cell_type": "code",
   "execution_count": 17,
   "metadata": {},
   "outputs": [
    {
     "data": {
      "text/plain": [
       "[1, 3, 5]"
      ]
     },
     "execution_count": 17,
     "metadata": {},
     "output_type": "execute_result"
    }
   ],
   "source": [
    "elements[1:-1]"
   ]
  },
  {
   "cell_type": "markdown",
   "metadata": {},
   "source": [
    "Experiment with the code to get a feel of what is possible and more information can be found here [https://www.learnbyexample.org/python-list-slicing/](https://www.learnbyexample.org/python-list-slicing/).\n",
    "\n"
   ]
  },
  {
   "cell_type": "markdown",
   "metadata": {},
   "source": [
    "### Iterables and loops\n",
    "\n"
   ]
  },
  {
   "cell_type": "markdown",
   "metadata": {},
   "source": [
    "Python has another quite drastic difference from Javascript and other languages in the way we construct loops. In Javascript we have encountered the typical `for` loop contruct\n",
    "\n",
    "    for (let i = 0; i < 10; i++){\n",
    "        print(i)\n",
    "    }\n",
    "\n",
    "and this does not really exist in Python. To do an equivalent for loop we would write:\n",
    "\n"
   ]
  },
  {
   "cell_type": "code",
   "execution_count": 18,
   "metadata": {},
   "outputs": [
    {
     "name": "stdout",
     "output_type": "stream",
     "text": [
      "0\n",
      "1\n",
      "2\n",
      "3\n",
      "4\n",
      "5\n",
      "6\n",
      "7\n",
      "8\n",
      "9\n"
     ]
    }
   ],
   "source": [
    "for i in range(10):\n",
    "    print(i)"
   ]
  },
  {
   "cell_type": "markdown",
   "metadata": {},
   "source": [
    "here [range](https://www.w3schools.com/python/ref_func_range.asp) is a function that returns an object that can be iterated. It is similar to a `list`, but it is actually known as a [generator](https://www.programiz.com/python-programming/generator). We will not go into details on generators here, but these are objects that spit out an ordered sequence of elements. The syntax `range(10)` gives us a sequence of numbers from zero to 100. We can display it by converting it to a list with\n",
    "\n"
   ]
  },
  {
   "cell_type": "code",
   "execution_count": 19,
   "metadata": {},
   "outputs": [
    {
     "data": {
      "text/plain": [
       "[0, 1, 2, 3, 4, 5, 6, 7, 8, 9]"
      ]
     },
     "execution_count": 19,
     "metadata": {},
     "output_type": "execute_result"
    }
   ],
   "source": [
    "list(range(10))"
   ]
  },
  {
   "cell_type": "markdown",
   "metadata": {},
   "source": [
    "The `for` keyword essentially extracts elements from an object that can be iterated. This object can be a generator (such as a `range`) or a list. For example using the earlier list:\n",
    "\n"
   ]
  },
  {
   "cell_type": "code",
   "execution_count": 20,
   "metadata": {},
   "outputs": [
    {
     "name": "stdout",
     "output_type": "stream",
     "text": [
      ", \n"
     ]
    }
   ],
   "source": [
    "for s in myList:\n",
    "    print(s)"
   ]
  },
  {
   "cell_type": "markdown",
   "metadata": {},
   "source": [
    "goes through the list. This may look strange at first, but it is a very powerful construct. A perhaps useful way of thinking of it is to see the `for` as a machine that sequentially extracts elements from a list, or an object that can be iterated, until these elements are finished.\n",
    "As another example, say we want to loop through the characters of the string &ldquo;hello world&rdquo;. Since also strings are iteratable, we can simply do:\n",
    "\n"
   ]
  },
  {
   "cell_type": "code",
   "execution_count": 21,
   "metadata": {},
   "outputs": [
    {
     "name": "stdout",
     "output_type": "stream",
     "text": [
      "h\n",
      "e\n",
      "l\n",
      "l\n",
      "o\n",
      " \n",
      "w\n",
      "o\n",
      "r\n",
      "l\n",
      "d\n"
     ]
    }
   ],
   "source": [
    "for c in \"hello world\":\n",
    "    print(c)"
   ]
  },
  {
   "cell_type": "markdown",
   "metadata": {},
   "source": [
    "We will see later many other useful ways to generate lists or arrays that can be iterated with `for`.\n",
    "\n"
   ]
  },
  {
   "cell_type": "markdown",
   "metadata": {},
   "source": [
    "##### List comprehensions (extra)\n",
    "\n"
   ]
  },
  {
   "cell_type": "markdown",
   "metadata": {},
   "source": [
    "A perhaps cryptic looking construct that is very much used in Python, and is worth knowing about is a &ldquo;list comprehension&rdquo;. Essentially this is a concise way of generating lists using for loops inside the brackets that define the list.\n",
    "E.g. say we wanted to have a list with the length of each string in our `myList` list.\n",
    "We can do\n",
    "\n"
   ]
  },
  {
   "cell_type": "code",
   "execution_count": 22,
   "metadata": {},
   "outputs": [],
   "source": [
    "lengths = [len(string) for string in myList]"
   ]
  },
  {
   "cell_type": "markdown",
   "metadata": {},
   "source": [
    "Reading this out loud would be\n",
    "> Create a list (using an opening `[`) and put `len(string)` into each element of the list, for each `string` contained in `myList`. Finish creating the list (closing `]`)Even more powerful, we can filter out elements by even adding an if statement at the end of this expression. E.g.\n",
    "\n"
   ]
  },
  {
   "cell_type": "code",
   "execution_count": 23,
   "metadata": {},
   "outputs": [
    {
     "data": {
      "text/plain": [
       "[]"
      ]
     },
     "execution_count": 23,
     "metadata": {},
     "output_type": "execute_result"
    }
   ],
   "source": [
    "[string for string in myList if string[0]=='H']"
   ]
  },
  {
   "cell_type": "markdown",
   "metadata": {},
   "source": [
    "will give us a new list, where an element is present only if it starts with the &ldquo;H&rdquo;. So if our list is unchanged, it will contain only one element.\n",
    "\n"
   ]
  },
  {
   "cell_type": "markdown",
   "metadata": {},
   "source": [
    "### Tuples\n",
    "\n"
   ]
  },
  {
   "cell_type": "markdown",
   "metadata": {},
   "source": [
    "The `tuple` object in Python is an iterable object very similar to a `list`, with the main difference that it is **immutable**. We create it with opening and closing round brackets. E.g.\n",
    "\n"
   ]
  },
  {
   "cell_type": "code",
   "execution_count": 24,
   "metadata": {},
   "outputs": [],
   "source": [
    "vals = (10, 20, 30)"
   ]
  },
  {
   "cell_type": "markdown",
   "metadata": {},
   "source": [
    "However, while for the case of a list we could assign an element, for tuples this is not possible. E.g\n",
    "\n"
   ]
  },
  {
   "cell_type": "code",
   "execution_count": 25,
   "metadata": {},
   "outputs": [
    {
     "ename": "TypeError",
     "evalue": "'tuple' object does not support item assignment",
     "output_type": "error",
     "traceback": [
      "\u001b[0;31m---------------------------------------------------------------------------\u001b[0m",
      "\u001b[0;31mTypeError\u001b[0m                                 Traceback (most recent call last)",
      "\u001b[0;32m/var/folders/sr/zs7syfx13zzfn32_m3hpw17c0000gn/T/ipykernel_6851/311428616.py\u001b[0m in \u001b[0;36m<cell line: 1>\u001b[0;34m()\u001b[0m\n\u001b[0;32m----> 1\u001b[0;31m \u001b[0mvals\u001b[0m\u001b[0;34m[\u001b[0m\u001b[0;36m0\u001b[0m\u001b[0;34m]\u001b[0m \u001b[0;34m=\u001b[0m \u001b[0;36m1\u001b[0m\u001b[0;34m\u001b[0m\u001b[0;34m\u001b[0m\u001b[0m\n\u001b[0m",
      "\u001b[0;31mTypeError\u001b[0m: 'tuple' object does not support item assignment"
     ]
    }
   ],
   "source": [
    "vals[0] = 1"
   ]
  },
  {
   "cell_type": "markdown",
   "metadata": {},
   "source": [
    "will give us an error.\n",
    "\n"
   ]
  },
  {
   "cell_type": "markdown",
   "metadata": {},
   "source": [
    "#### Using tuples in practice\n",
    "\n"
   ]
  },
  {
   "cell_type": "markdown",
   "metadata": {},
   "source": [
    "You will often see tuples &ldquo;hidden&rdquo; in Python code, as they can be defined and assigned also without the use of the parenthesis. E.g.\n",
    "\n"
   ]
  },
  {
   "cell_type": "code",
   "execution_count": null,
   "metadata": {},
   "outputs": [],
   "source": [
    "vals = 10, 20, 30"
   ]
  },
  {
   "cell_type": "markdown",
   "metadata": {},
   "source": [
    "Is perfectly equivalent to the code above using the `(10, 20, 30)` syntax. Well, why is this ueful? We can do some really concise expressions, for example we can write:\n",
    "\n"
   ]
  },
  {
   "cell_type": "code",
   "execution_count": null,
   "metadata": {},
   "outputs": [],
   "source": [
    "a, b, c = 10, 20, 30"
   ]
  },
  {
   "cell_type": "markdown",
   "metadata": {},
   "source": [
    "and this will assign 10, 20, 30 to `a`, `b` and `c` respectively.\n",
    "Or we can swap a and b with simply\n",
    "\n"
   ]
  },
  {
   "cell_type": "code",
   "execution_count": null,
   "metadata": {},
   "outputs": [],
   "source": [
    "a, b = b, a"
   ]
  },
  {
   "cell_type": "markdown",
   "metadata": {},
   "source": [
    "Or for example we can iterate more conveniently over a list of tuples\n",
    "\n"
   ]
  },
  {
   "cell_type": "code",
   "execution_count": null,
   "metadata": {},
   "outputs": [],
   "source": [
    "for a, b in [(2, 4), (2, 5)]:\n",
    "    print(a + b)"
   ]
  },
  {
   "cell_type": "markdown",
   "metadata": {},
   "source": [
    "We will see another practical application of this later with dictionaries.\n",
    "\n"
   ]
  },
  {
   "cell_type": "markdown",
   "metadata": {},
   "source": [
    "##### A note on assignments and references in Python\n",
    "\n"
   ]
  },
  {
   "cell_type": "markdown",
   "metadata": {},
   "source": [
    "Similarly to Javascript, in most cases ewhen we create an object such as a list,\n",
    "assigning it to another variable will not copy the object but just refer to the\n",
    "same object. This is true for lists for example:\n",
    "\n"
   ]
  },
  {
   "cell_type": "code",
   "execution_count": null,
   "metadata": {},
   "outputs": [],
   "source": [
    "list_a = [0, 2, 3]\n",
    "list_b = list_a\n",
    "print(list_b)\n",
    "list_a[2] = 100\n",
    "print(list_b)"
   ]
  },
  {
   "cell_type": "markdown",
   "metadata": {},
   "source": [
    "This is not true for tuples as they are immutable. So assigning a `tuple` will create a copy of it. The same holds for strings.\n",
    "\n"
   ]
  },
  {
   "cell_type": "markdown",
   "metadata": {},
   "source": [
    "### Dictionaries\n",
    "\n"
   ]
  },
  {
   "cell_type": "markdown",
   "metadata": {},
   "source": [
    "Another important Python object is a [dict](https://www.w3schools.com/python/python_dictionaries.asp), a &ldquo;dictionary&rdquo; very similar also in syntax to Javasript objects and it is a collection of key:value pairs.\n",
    "\n"
   ]
  },
  {
   "cell_type": "code",
   "execution_count": null,
   "metadata": {},
   "outputs": [],
   "source": [
    "mydict = {\"name\": \"John\",\n",
    "          \"surname\": \"Doe\",\n",
    "          \"age\": 360}"
   ]
  },
  {
   "cell_type": "markdown",
   "metadata": {},
   "source": [
    "A bit less conveniently than Javascript we cannot use the `.` to access the\n",
    "elements in a dictionary. We need to explicitly give the key inside square\n",
    "brackets, e.g.\n",
    "\n"
   ]
  },
  {
   "cell_type": "code",
   "execution_count": null,
   "metadata": {},
   "outputs": [],
   "source": [
    "mydict['age']"
   ]
  },
  {
   "cell_type": "markdown",
   "metadata": {},
   "source": [
    "will give us the value of the entry with key &ldquo;age&rdquo;.\n",
    "\n",
    "Dictionaries are also iterable, but with some subtleties. We can iterate over\n",
    "all the key, value pairs with the `.items()` method, which iterates over all the\n",
    "(key, value) pairs in the dictionary. These are given as tuples so we have:\n",
    "\n"
   ]
  },
  {
   "cell_type": "code",
   "execution_count": null,
   "metadata": {},
   "outputs": [],
   "source": [
    "for key, value in mydict.items():\n",
    "    print(key + ' ' + str(value))"
   ]
  },
  {
   "cell_type": "markdown",
   "metadata": {},
   "source": [
    "Otherwise we can just get the keys with `.keys()` or only the values with `.values()`.\n",
    "\n"
   ]
  },
  {
   "cell_type": "markdown",
   "metadata": {},
   "source": [
    "### Sets\n",
    "\n"
   ]
  },
  {
   "cell_type": "markdown",
   "metadata": {},
   "source": [
    "Sets are unordered collections of elements that are unique. Say we want to remove duplicates from a list, we can do:\n",
    "\n"
   ]
  },
  {
   "cell_type": "code",
   "execution_count": null,
   "metadata": {},
   "outputs": [],
   "source": [
    "l = [1, 2, 2, 3, 5]\n",
    "print(set(l))"
   ]
  },
  {
   "cell_type": "markdown",
   "metadata": {},
   "source": [
    "If you need more information on sets refer to [https://www.w3schools.com/python/python_sets.asp](https://www.w3schools.com/python/python_sets.asp).\n",
    "\n"
   ]
  },
  {
   "cell_type": "markdown",
   "metadata": {},
   "source": [
    "## Packages and modules\n",
    "\n"
   ]
  },
  {
   "cell_type": "markdown",
   "metadata": {},
   "source": [
    "Apart from being a powerful languages, one of the most attractive features of\n",
    "Python is the availability of a immense variety of &ldquo;packages&rdquo;, extensions that\n",
    "allow to achieve all kinds of functionality. A package is a collection of\n",
    "*modules* that are organized in a directory structure and can be imported into\n",
    "other programs to use their functionality. A module is a single file that\n",
    "contains definitions and statements, and can include functions, classes, and\n",
    "variables.\n",
    "\n",
    "As an example, you can create a file called `my_functions.py` and place it in\n",
    "the same directory as your main Python file or notebook. You can then `import`\n",
    "the module with `import my_functions` and use the functions contained in the\n",
    "`my_functions.py` file with the &ldquo;dot notation&rdquo;, for example `my_functions.add(3,\n",
    "2)`. Python also has a number of built-in modules. For example to access a\n",
    "number of mathematical operations one can use the `math` module:\n",
    "\n"
   ]
  },
  {
   "cell_type": "code",
   "execution_count": null,
   "metadata": {},
   "outputs": [
    {
     "name": "stdout",
     "output_type": "stream",
     "text": [
      "1.4142135623730951"
     ]
    }
   ],
   "source": [
    "import math\n",
    "math.sqrt(2)"
   ]
  },
  {
   "cell_type": "markdown",
   "metadata": {},
   "source": [
    "Packages allow you to further structure code by grouping related modules\n",
    "together. For example, later on we will use the `matplotlib` package and import\n",
    "a specific submodule with\n",
    "\n"
   ]
  },
  {
   "cell_type": "code",
   "execution_count": null,
   "metadata": {},
   "outputs": [],
   "source": [
    "from matplotlib import pyplot"
   ]
  },
  {
   "cell_type": "markdown",
   "metadata": {},
   "source": [
    "An alternative notation is the following:\n",
    "\n"
   ]
  },
  {
   "cell_type": "code",
   "execution_count": null,
   "metadata": {},
   "outputs": [],
   "source": [
    "import matplotlib.pyplot as plt"
   ]
  },
  {
   "cell_type": "markdown",
   "metadata": {},
   "source": [
    "and here we explicitly thell Python how we want to refer to the module. This is\n",
    "often used to abbreviate the name of the module in order to reduce typing.\n",
    "Another example of this syntax that we will use is:\n",
    "\n"
   ]
  },
  {
   "cell_type": "code",
   "execution_count": null,
   "metadata": {},
   "outputs": [],
   "source": [
    "import numpy as np"
   ]
  },
  {
   "cell_type": "markdown",
   "metadata": {},
   "source": [
    "Here numpy as a package that immediately provides a set of functionalities\n",
    "without requiring to specify the specific submodule.\n",
    "\n"
   ]
  }
 ],
 "metadata": {
  "kernelspec": {
   "display_name": "Python 3",
   "language": "python",
   "name": "python3"
  },
  "language_info": {
   "codemirror_mode": {
    "name": "ipython",
    "version": 3
   },
   "file_extension": ".py",
   "mimetype": "text/x-python",
   "name": "python",
   "nbconvert_exporter": "python",
   "pygments_lexer": "ipython3",
   "version": "3.9.16"
  },
  "org": null,
  "vscode": {
   "interpreter": {
    "hash": "1c544d3133b9d8c6f36fca025551af31afa9ef134259e7064ad6be0c15e6401c"
   }
  }
 },
 "nbformat": 4,
 "nbformat_minor": 1
}
